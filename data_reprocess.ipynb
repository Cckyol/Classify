{
 "cells": [
  {
   "cell_type": "code",
   "execution_count": 7,
   "metadata": {},
   "outputs": [],
   "source": [
    "import numpy as np \n",
    "import pandas as pd\n",
    "import os\n",
    "import cv2\n",
    "import matplotlib.pyplot as plt\n",
    "from PIL import Image as im\n",
    "from subprocess import  call\n",
    "from __future__ import print_function\n",
    "%matplotlib inline"
   ]
  },
  {
   "cell_type": "markdown",
   "metadata": {},
   "source": [
    "## Move all the images to one folder with label ##\n",
    "\n",
    "### transfer all the images to the same size ###\n",
    "the input folder need contain some folders which contains some images\n"
   ]
  },
  {
   "cell_type": "code",
   "execution_count": 30,
   "metadata": {},
   "outputs": [],
   "source": [
    "def transfer_size(desired_size, input_img, output_img):\n",
    "    img = cv2.imread(input_img)\n",
    "    try:\n",
    "        old_size = img.shape[:2]\n",
    "        ratio = float(desired_size)/ max(old_size)\n",
    "        new_size = tuple([int(x * ratio) for x in old_size])\n",
    "        img = cv2.resize(img, (new_size[1],new_size[0]))\n",
    "        delta_w = desired_size - new_size[1]\n",
    "        delta_h = desired_size - new_size[0]\n",
    "        top, bottom = delta_h /2, delta_h - delta_h/2\n",
    "        left, right = delta_w /2, delta_w - delta_w/2\n",
    "        new_img = cv2.copyMakeBorder(img,top,bottom,left,right,cv2.BORDER_CONSTANT)\n",
    "        cv2.imwrite(output_img,new_img)\n",
    "    except:\n",
    "        print(input_img + \" cannot read\")"
   ]
  },
  {
   "cell_type": "code",
   "execution_count": 31,
   "metadata": {},
   "outputs": [],
   "source": [
    "def data_prerocess(desired_size,input_path,output_path):\n",
    "    img_index = 0\n",
    "    list_dirs = os.listdir(input_path) \n",
    "    if not os.path.exists(output_path):\n",
    "        os.mkdir(output_path)\n",
    "    for root,dirs,files in os.walk(input_path):\n",
    "        for i in files:\n",
    "            if \"db\" not in i :\n",
    "                try:\n",
    "                    label = (os.path.join(root,i).split(\"/\")[-2])\n",
    "                    label = list_dirs.index(label)\n",
    "                    input_img = os.path.join(root,i)\n",
    "                    output_img = output_path + \"/\" + str(img_index) + \"_\" + str(label) +\".jpg\"\n",
    "                    transfer_size(desired_size,input_img,output_img)\n",
    "                    img_index += 1\n",
    "                except IOError as e:\n",
    "                    print(os.path.join(root,i) + \" : Image canot read \")\n",
    "                    call([\"rm\",\"-rf\",os.path.join(root,i)])"
   ]
  },
  {
   "cell_type": "code",
   "execution_count": 14,
   "metadata": {},
   "outputs": [],
   "source": [
    "def generate_label_idx(path):\n",
    "    list_dirs = os.listdir(path) \n",
    "    for index, label in enumerate(list_dirs):\n",
    "        with open(\"label.txt\",\"a\") as wb:\n",
    "            wb.write(str(index) + \" \" + label + \"\\n\")"
   ]
  },
  {
   "cell_type": "code",
   "execution_count": 32,
   "metadata": {},
   "outputs": [],
   "source": [
    "generate_label_idx(\"handled\")"
   ]
  },
  {
   "cell_type": "code",
   "execution_count": 33,
   "metadata": {
    "scrolled": true
   },
   "outputs": [],
   "source": [
    "desired_size = 224\n",
    "input_path = \"handled\"\n",
    "output_path = \"same_size\"\n",
    "data_prerocess(desired_size, input_path, output_path)"
   ]
  },
  {
   "cell_type": "markdown",
   "metadata": {},
   "source": [
    "## Move some shuffled images using in test "
   ]
  },
  {
   "cell_type": "code",
   "execution_count": 38,
   "metadata": {},
   "outputs": [],
   "source": [
    "if not os.path.exists(\"test\"):\n",
    "    os.mkdir(\"test\")\n",
    "root_path = \"same_size\"\n",
    "for i in range(1,101):\n",
    "    index = np.random.randint(len(os.listdir(\"same_size\")))\n",
    "    imgs = os.listdir(root_path)\n",
    "    input_path = os.path.join(root_path,imgs[index])\n",
    "    call([\"mv\",input_path,\"test\"])"
   ]
  },
  {
   "cell_type": "markdown",
   "metadata": {},
   "source": [
    "## Delete category which contains images' number less than threshold"
   ]
  },
  {
   "cell_type": "code",
   "execution_count": 35,
   "metadata": {},
   "outputs": [],
   "source": [
    "input_path = \"handled\"\n",
    "img_nums = []\n",
    "for root,dirs,files in os.walk(input_path):\n",
    "        for i in dirs:\n",
    "            folder_path = os.path.join(root,i)\n",
    "            lens =  len(os.listdir(folder_path))\n",
    "            img_nums.append(lens)"
   ]
  },
  {
   "cell_type": "code",
   "execution_count": 36,
   "metadata": {
    "scrolled": true
   },
   "outputs": [
    {
     "name": "stdout",
     "output_type": "stream",
     "text": [
      "253\n"
     ]
    },
    {
     "data": {
      "image/png": "[encoded data removed]",
      "text/plain": [
       "<matplotlib.figure.Figure at 0x7fc50900bf90>"
      ]
     },
     "metadata": {},
     "output_type": "display_data"
    }
   ],
   "source": [
    "plt.plot(img_nums)\n",
    "print(np.min(img_nums))"
   ]
  },
  {
   "cell_type": "code",
   "execution_count": 37,
   "metadata": {},
   "outputs": [
    {
     "data": {
      "text/plain": [
       "253"
      ]
     },
     "execution_count": 37,
     "metadata": {},
     "output_type": "execute_result"
    }
   ],
   "source": [
    "np.min(img_nums)"
   ]
  },
  {
   "cell_type": "code",
   "execution_count": 29,
   "metadata": {},
   "outputs": [],
   "source": [
    "for root,dirs,files in os.walk(input_path):\n",
    "        for i in dirs:\n",
    "            folder_path = os.path.join(root,i)\n",
    "            lens =  len(os.listdir(folder_path))\n",
    "            if lens < 250:\n",
    "                call(['rm',\"-rf\",folder_path])"
   ]
  },
  {
   "cell_type": "markdown",
   "metadata": {},
   "source": [
    "## Data augmentation"
   ]
  },
  {
   "cell_type": "code",
   "execution_count": null,
   "metadata": {},
   "outputs": [],
   "source": [
    "from keras.preprocessing import "
   ]
  }
 ],
 "metadata": {
  "kernelspec": {
   "display_name": "Python 3",
   "language": "python",
   "name": "python3"
  },
  "language_info": {
   "codemirror_mode": {
    "name": "ipython",
    "version": 3
   },
   "file_extension": ".py",
   "mimetype": "text/x-python",
   "name": "python",
   "nbconvert_exporter": "python",
   "pygments_lexer": "ipython3",
   "version": "3.6.2"
  }
 },
 "nbformat": 4,
 "nbformat_minor": 2
}
