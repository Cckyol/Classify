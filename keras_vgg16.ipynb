{
 "cells": [
  {
   "cell_type": "code",
   "execution_count": 2,
   "metadata": {},
   "outputs": [],
   "source": [
    "from keras.models import  Model, load_model\n",
    "from keras.applications.vgg16 import VGG16\n",
    "from keras.applications.resnet50 import  ResNet50\n",
    "from keras.optimizers import Adam\n",
    "from keras.utils import  to_categorical\n",
    "from keras.layers import Dense\n",
    "from math import ceil\n",
    "from keras import backend as k\n",
    "from PIL import Image as im\n",
    "from sklearn.preprocessing import LabelBinarizer\n",
    "from sklearn.model_selection import train_test_split\n",
    "import numpy as np\n",
    "import os\n",
    "import cv2"
   ]
  },
  {
   "cell_type": "markdown",
   "metadata": {},
   "source": [
    "## Build the model with 16 classes"
   ]
  },
  {
   "cell_type": "code",
   "execution_count": 35,
   "metadata": {},
   "outputs": [],
   "source": [
    "base_model = VGG16(input_shape=(224,224,3),weights=\"imagenet\")\n",
    "base_model.layers.pop()\n",
    "fc2_output = base_model.layers[-1].output\n",
    "prediction = Dense(1000, activation=\"softmax\", name=\"prediction\")(fc2_output)\n",
    "model = Model(inputs= base_model.input,outputs=prediction)"
   ]
  },
  {
   "cell_type": "code",
   "execution_count": 49,
   "metadata": {},
   "outputs": [],
   "source": [
    "from keras.layers import Input,Conv2D,MaxPool2D\n",
    "from keras.layers import Flatten,Dense,BatchNormalization\n",
    "from keras.models import Model,load_model"
   ]
  },
  {
   "cell_type": "code",
   "execution_count": 76,
   "metadata": {},
   "outputs": [],
   "source": [
    "def Vgg16():\n",
    "    inputs = Input(shape=(224,224,3),name=\"Input\")\n",
    "    # block1\n",
    "    x = Conv2D(64,(3,3),padding=\"same\",activation=\"relu\",name=\"block1_conv1\")(inputs)\n",
    "    x = Conv2D(64,(3,3),padding=\"same\",activation=\"relu\",name=\"block1_conv2\")(x)\n",
    "    x = MaxPool2D((2,2),strides=(2,2),padding=\"same\",name=\"block1_pool\")(x)\n",
    "    #block2\n",
    "    x = Conv2D(128,(3,3),padding=\"same\",activation=\"relu\",name=\"block2_conv1\")(x)\n",
    "    x = Conv2D(128,(3,3),padding=\"same\",activation=\"relu\",name=\"block2_conv2\")(x)\n",
    "    x = MaxPool2D((2,2),strides=(2,2),padding=\"same\",name=\"block2_pool\")(x)\n",
    "    #block3\n",
    "    x = Conv2D(256,(3,3),padding=\"same\",activation=\"relu\",name=\"block3_conv1\")(x)\n",
    "    x = Conv2D(256,(3,3),padding=\"same\",activation=\"relu\",name=\"block3_conv2\")(x)\n",
    "    x = Conv2D(256,(3,3),padding=\"same\",activation=\"relu\",name=\"block3_conv3\")(x)\n",
    "    x = MaxPool2D((2,2),strides=(2,2),padding=\"same\",name=\"block3_pool\")(x)\n",
    "    #block4\n",
    "    x = Conv2D(512,(3,3),padding=\"same\",activation=\"relu\",name=\"block4_conv1\")(x)\n",
    "    x = Conv2D(512,(3,3),padding=\"same\",activation=\"relu\",name=\"block4_conv2\")(x)\n",
    "    x = Conv2D(512,(3,3),padding=\"same\",activation=\"relu\",name=\"block4_conv3\")(x)\n",
    "    x = MaxPool2D((2,2),strides=(2,2),padding=\"same\",name=\"block4_pool\")(x)\n",
    "    #block5\n",
    "    x = Conv2D(512,(3,3),padding=\"same\",activation=\"relu\",name=\"block5_conv1\")(x)\n",
    "    x = Conv2D(512,(3,3),padding=\"same\",activation=\"relu\",name=\"block5_conv2\")(x)\n",
    "    x = Conv2D(512,(3,3),padding=\"same\",activation=\"relu\",name=\"block5_conv3\")(x)\n",
    "    x = MaxPool2D((2,2),strides=(2,2),padding=\"same\",name=\"block5_pool\")(x)\n",
    "#     x = BatchNormalization(axis=3)(x)\n",
    "    #block6\n",
    "    x = Flatten(name=\"flatten\")(x)\n",
    "    x = Dense(4096,activation=\"relu\",name=\"fc1\")(x)\n",
    "    x = Dense(4096,activation=\"relu\",name=\"fc2\")(x)\n",
    "    predictions = Dense(16,activation=\"softmax\",name=\"prediction\")(x)\n",
    "    model = Model(inputs=inputs,outputs=predictions)\n",
    "    return model"
   ]
  },
  {
   "cell_type": "code",
   "execution_count": 82,
   "metadata": {},
   "outputs": [],
   "source": [
    "k.clear_session()"
   ]
  },
  {
   "cell_type": "code",
   "execution_count": 83,
   "metadata": {},
   "outputs": [],
   "source": [
    "model_vgg = Vgg16()"
   ]
  },
  {
   "cell_type": "code",
   "execution_count": 84,
   "metadata": {},
   "outputs": [],
   "source": [
    "for layer in model_vgg.layers:\n",
    "    layer.trainable = False"
   ]
  },
  {
   "cell_type": "code",
   "execution_count": 85,
   "metadata": {},
   "outputs": [],
   "source": [
    "model_vgg.load_weights(\"/root/.keras/models/vgg16_weights_tf_dim_ordering_tf_kernels.h5\",by_name=True)"
   ]
  },
  {
   "cell_type": "code",
   "execution_count": 1,
   "metadata": {},
   "outputs": [
    {
     "name": "stderr",
     "output_type": "stream",
     "text": [
      "Using TensorFlow backend.\n"
     ]
    },
    {
     "ename": "InternalError",
     "evalue": "Failed to create session.",
     "output_type": "error",
     "traceback": [
      "\u001b[0;31m---------------------------------------------------------------------------\u001b[0m",
      "\u001b[0;31mInternalError\u001b[0m                             Traceback (most recent call last)",
      "\u001b[0;32m/home/chenya/classify/keras_verhicle_classfier/keras_vgg16.py\u001b[0m in \u001b[0;36m<module>\u001b[0;34m()\u001b[0m\n\u001b[1;32m     47\u001b[0m         \u001b[0;32mprint\u001b[0m\u001b[0;34m(\u001b[0m\u001b[0;34m\"*****************************\"\u001b[0m\u001b[0;34m)\u001b[0m\u001b[0;34m\u001b[0m\u001b[0m\n\u001b[1;32m     48\u001b[0m     \u001b[0mlabel_file\u001b[0m \u001b[0;34m=\u001b[0m \u001b[0;34m\"label.txt\"\u001b[0m\u001b[0;34m\u001b[0m\u001b[0m\n\u001b[0;32m---> 49\u001b[0;31m     \u001b[0mlabel\u001b[0m \u001b[0;34m=\u001b[0m \u001b[0mpredict_one\u001b[0m\u001b[0;34m(\u001b[0m\u001b[0mimg_path\u001b[0m\u001b[0;34m,\u001b[0m\u001b[0mlabel_file\u001b[0m\u001b[0;34m)\u001b[0m\u001b[0;34m\u001b[0m\u001b[0m\n\u001b[0m\u001b[1;32m     50\u001b[0m     \u001b[0;32mprint\u001b[0m \u001b[0mlabel\u001b[0m\u001b[0;34m\u001b[0m\u001b[0m\n\u001b[1;32m     51\u001b[0m     \u001b[0;31m#print label.decode('utf-8').encode('gb2312')\u001b[0m\u001b[0;34m\u001b[0m\u001b[0;34m\u001b[0m\u001b[0m\n",
      "\u001b[0;32m/home/chenya/classify/keras_verhicle_classfier/keras_vgg16.py\u001b[0m in \u001b[0;36mpredict_one\u001b[0;34m(img_path, label_file)\u001b[0m\n\u001b[1;32m     27\u001b[0m \u001b[0;34m\u001b[0m\u001b[0m\n\u001b[1;32m     28\u001b[0m \u001b[0;32mdef\u001b[0m \u001b[0mpredict_one\u001b[0m\u001b[0;34m(\u001b[0m\u001b[0mimg_path\u001b[0m\u001b[0;34m,\u001b[0m\u001b[0mlabel_file\u001b[0m\u001b[0;34m)\u001b[0m\u001b[0;34m:\u001b[0m\u001b[0;34m\u001b[0m\u001b[0m\n\u001b[0;32m---> 29\u001b[0;31m     \u001b[0mmodel\u001b[0m \u001b[0;34m=\u001b[0m \u001b[0mload_model\u001b[0m\u001b[0;34m(\u001b[0m\u001b[0;34m\"vgg16.h5\"\u001b[0m\u001b[0;34m)\u001b[0m\u001b[0;34m\u001b[0m\u001b[0m\n\u001b[0m\u001b[1;32m     30\u001b[0m     \u001b[0mlabel_index\u001b[0m \u001b[0;34m=\u001b[0m \u001b[0mget_labelidx\u001b[0m\u001b[0;34m(\u001b[0m\u001b[0mimg_path\u001b[0m\u001b[0;34m,\u001b[0m\u001b[0mmodel\u001b[0m\u001b[0;34m)\u001b[0m\u001b[0;34m\u001b[0m\u001b[0m\n\u001b[1;32m     31\u001b[0m     \u001b[0mlabel_list\u001b[0m \u001b[0;34m=\u001b[0m \u001b[0mget_labelist\u001b[0m\u001b[0;34m(\u001b[0m\u001b[0mlabel_file\u001b[0m\u001b[0;34m)\u001b[0m\u001b[0;34m\u001b[0m\u001b[0m\n",
      "\u001b[0;32m/home/chenya/.pyenv/versions/2.7.12/envs/env2/lib/python2.7/site-packages/keras/models.pyc\u001b[0m in \u001b[0;36mload_model\u001b[0;34m(filepath, custom_objects, compile)\u001b[0m\n\u001b[1;32m    244\u001b[0m \u001b[0;34m\u001b[0m\u001b[0m\n\u001b[1;32m    245\u001b[0m         \u001b[0;31m# set weights\u001b[0m\u001b[0;34m\u001b[0m\u001b[0;34m\u001b[0m\u001b[0m\n\u001b[0;32m--> 246\u001b[0;31m         \u001b[0mtopology\u001b[0m\u001b[0;34m.\u001b[0m\u001b[0mload_weights_from_hdf5_group\u001b[0m\u001b[0;34m(\u001b[0m\u001b[0mf\u001b[0m\u001b[0;34m[\u001b[0m\u001b[0;34m'model_weights'\u001b[0m\u001b[0;34m]\u001b[0m\u001b[0;34m,\u001b[0m \u001b[0mmodel\u001b[0m\u001b[0;34m.\u001b[0m\u001b[0mlayers\u001b[0m\u001b[0;34m)\u001b[0m\u001b[0;34m\u001b[0m\u001b[0m\n\u001b[0m\u001b[1;32m    247\u001b[0m \u001b[0;34m\u001b[0m\u001b[0m\n\u001b[1;32m    248\u001b[0m         \u001b[0;31m# Early return if compilation is not required.\u001b[0m\u001b[0;34m\u001b[0m\u001b[0;34m\u001b[0m\u001b[0m\n",
      "\u001b[0;32m/home/chenya/.pyenv/versions/2.7.12/envs/env2/lib/python2.7/site-packages/keras/engine/topology.pyc\u001b[0m in \u001b[0;36mload_weights_from_hdf5_group\u001b[0;34m(f, layers)\u001b[0m\n\u001b[1;32m   3164\u001b[0m                              ' elements.')\n\u001b[1;32m   3165\u001b[0m         \u001b[0mweight_value_tuples\u001b[0m \u001b[0;34m+=\u001b[0m \u001b[0mzip\u001b[0m\u001b[0;34m(\u001b[0m\u001b[0msymbolic_weights\u001b[0m\u001b[0;34m,\u001b[0m \u001b[0mweight_values\u001b[0m\u001b[0;34m)\u001b[0m\u001b[0;34m\u001b[0m\u001b[0m\n\u001b[0;32m-> 3166\u001b[0;31m     \u001b[0mK\u001b[0m\u001b[0;34m.\u001b[0m\u001b[0mbatch_set_value\u001b[0m\u001b[0;34m(\u001b[0m\u001b[0mweight_value_tuples\u001b[0m\u001b[0;34m)\u001b[0m\u001b[0;34m\u001b[0m\u001b[0m\n\u001b[0m\u001b[1;32m   3167\u001b[0m \u001b[0;34m\u001b[0m\u001b[0m\n\u001b[1;32m   3168\u001b[0m \u001b[0;34m\u001b[0m\u001b[0m\n",
      "\u001b[0;32m/home/chenya/.pyenv/versions/2.7.12/envs/env2/lib/python2.7/site-packages/keras/backend/tensorflow_backend.pyc\u001b[0m in \u001b[0;36mbatch_set_value\u001b[0;34m(tuples)\u001b[0m\n\u001b[1;32m   2368\u001b[0m             \u001b[0massign_ops\u001b[0m\u001b[0;34m.\u001b[0m\u001b[0mappend\u001b[0m\u001b[0;34m(\u001b[0m\u001b[0massign_op\u001b[0m\u001b[0;34m)\u001b[0m\u001b[0;34m\u001b[0m\u001b[0m\n\u001b[1;32m   2369\u001b[0m             \u001b[0mfeed_dict\u001b[0m\u001b[0;34m[\u001b[0m\u001b[0massign_placeholder\u001b[0m\u001b[0;34m]\u001b[0m \u001b[0;34m=\u001b[0m \u001b[0mvalue\u001b[0m\u001b[0;34m\u001b[0m\u001b[0m\n\u001b[0;32m-> 2370\u001b[0;31m         \u001b[0mget_session\u001b[0m\u001b[0;34m(\u001b[0m\u001b[0;34m)\u001b[0m\u001b[0;34m.\u001b[0m\u001b[0mrun\u001b[0m\u001b[0;34m(\u001b[0m\u001b[0massign_ops\u001b[0m\u001b[0;34m,\u001b[0m \u001b[0mfeed_dict\u001b[0m\u001b[0;34m=\u001b[0m\u001b[0mfeed_dict\u001b[0m\u001b[0;34m)\u001b[0m\u001b[0;34m\u001b[0m\u001b[0m\n\u001b[0m\u001b[1;32m   2371\u001b[0m \u001b[0;34m\u001b[0m\u001b[0m\n\u001b[1;32m   2372\u001b[0m \u001b[0;34m\u001b[0m\u001b[0m\n",
      "\u001b[0;32m/home/chenya/.pyenv/versions/2.7.12/envs/env2/lib/python2.7/site-packages/keras/backend/tensorflow_backend.pyc\u001b[0m in \u001b[0;36mget_session\u001b[0;34m()\u001b[0m\n\u001b[1;32m    174\u001b[0m                 config = tf.ConfigProto(intra_op_parallelism_threads=num_thread,\n\u001b[1;32m    175\u001b[0m                                         allow_soft_placement=True)\n\u001b[0;32m--> 176\u001b[0;31m             \u001b[0m_SESSION\u001b[0m \u001b[0;34m=\u001b[0m \u001b[0mtf\u001b[0m\u001b[0;34m.\u001b[0m\u001b[0mSession\u001b[0m\u001b[0;34m(\u001b[0m\u001b[0mconfig\u001b[0m\u001b[0;34m=\u001b[0m\u001b[0mconfig\u001b[0m\u001b[0;34m)\u001b[0m\u001b[0;34m\u001b[0m\u001b[0m\n\u001b[0m\u001b[1;32m    177\u001b[0m         \u001b[0msession\u001b[0m \u001b[0;34m=\u001b[0m \u001b[0m_SESSION\u001b[0m\u001b[0;34m\u001b[0m\u001b[0m\n\u001b[1;32m    178\u001b[0m     \u001b[0;32mif\u001b[0m \u001b[0;32mnot\u001b[0m \u001b[0m_MANUAL_VAR_INIT\u001b[0m\u001b[0;34m:\u001b[0m\u001b[0;34m\u001b[0m\u001b[0m\n",
      "\u001b[0;32m/home/chenya/.pyenv/versions/2.7.12/envs/env2/lib/python2.7/site-packages/tensorflow/python/client/session.pyc\u001b[0m in \u001b[0;36m__init__\u001b[0;34m(self, target, graph, config)\u001b[0m\n\u001b[1;32m   1480\u001b[0m \u001b[0;34m\u001b[0m\u001b[0m\n\u001b[1;32m   1481\u001b[0m     \"\"\"\n\u001b[0;32m-> 1482\u001b[0;31m     \u001b[0msuper\u001b[0m\u001b[0;34m(\u001b[0m\u001b[0mSession\u001b[0m\u001b[0;34m,\u001b[0m \u001b[0mself\u001b[0m\u001b[0;34m)\u001b[0m\u001b[0;34m.\u001b[0m\u001b[0m__init__\u001b[0m\u001b[0;34m(\u001b[0m\u001b[0mtarget\u001b[0m\u001b[0;34m,\u001b[0m \u001b[0mgraph\u001b[0m\u001b[0;34m,\u001b[0m \u001b[0mconfig\u001b[0m\u001b[0;34m=\u001b[0m\u001b[0mconfig\u001b[0m\u001b[0;34m)\u001b[0m\u001b[0;34m\u001b[0m\u001b[0m\n\u001b[0m\u001b[1;32m   1483\u001b[0m     \u001b[0;31m# NOTE(mrry): Create these on first `__enter__` to avoid a reference cycle.\u001b[0m\u001b[0;34m\u001b[0m\u001b[0;34m\u001b[0m\u001b[0m\n\u001b[1;32m   1484\u001b[0m     \u001b[0mself\u001b[0m\u001b[0;34m.\u001b[0m\u001b[0m_default_graph_context_manager\u001b[0m \u001b[0;34m=\u001b[0m \u001b[0mNone\u001b[0m\u001b[0;34m\u001b[0m\u001b[0m\n",
      "\u001b[0;32m/home/chenya/.pyenv/versions/2.7.12/envs/env2/lib/python2.7/site-packages/tensorflow/python/client/session.pyc\u001b[0m in \u001b[0;36m__init__\u001b[0;34m(self, target, graph, config)\u001b[0m\n\u001b[1;32m    620\u001b[0m           \u001b[0;31m# pylint: enable=protected-access\u001b[0m\u001b[0;34m\u001b[0m\u001b[0;34m\u001b[0m\u001b[0m\n\u001b[1;32m    621\u001b[0m         \u001b[0;32melse\u001b[0m\u001b[0;34m:\u001b[0m\u001b[0;34m\u001b[0m\u001b[0m\n\u001b[0;32m--> 622\u001b[0;31m           \u001b[0mself\u001b[0m\u001b[0;34m.\u001b[0m\u001b[0m_session\u001b[0m \u001b[0;34m=\u001b[0m \u001b[0mtf_session\u001b[0m\u001b[0;34m.\u001b[0m\u001b[0mTF_NewDeprecatedSession\u001b[0m\u001b[0;34m(\u001b[0m\u001b[0mopts\u001b[0m\u001b[0;34m,\u001b[0m \u001b[0mstatus\u001b[0m\u001b[0;34m)\u001b[0m\u001b[0;34m\u001b[0m\u001b[0m\n\u001b[0m\u001b[1;32m    623\u001b[0m     \u001b[0;32mfinally\u001b[0m\u001b[0;34m:\u001b[0m\u001b[0;34m\u001b[0m\u001b[0m\n\u001b[1;32m    624\u001b[0m       \u001b[0mtf_session\u001b[0m\u001b[0;34m.\u001b[0m\u001b[0mTF_DeleteSessionOptions\u001b[0m\u001b[0;34m(\u001b[0m\u001b[0mopts\u001b[0m\u001b[0;34m)\u001b[0m\u001b[0;34m\u001b[0m\u001b[0m\n",
      "\u001b[0;32m/home/chenya/.pyenv/versions/2.7.12/envs/env2/lib/python2.7/site-packages/tensorflow/python/framework/errors_impl.pyc\u001b[0m in \u001b[0;36m__exit__\u001b[0;34m(self, type_arg, value_arg, traceback_arg)\u001b[0m\n\u001b[1;32m    471\u001b[0m             \u001b[0mNone\u001b[0m\u001b[0;34m,\u001b[0m \u001b[0mNone\u001b[0m\u001b[0;34m,\u001b[0m\u001b[0;34m\u001b[0m\u001b[0m\n\u001b[1;32m    472\u001b[0m             \u001b[0mcompat\u001b[0m\u001b[0;34m.\u001b[0m\u001b[0mas_text\u001b[0m\u001b[0;34m(\u001b[0m\u001b[0mc_api\u001b[0m\u001b[0;34m.\u001b[0m\u001b[0mTF_Message\u001b[0m\u001b[0;34m(\u001b[0m\u001b[0mself\u001b[0m\u001b[0;34m.\u001b[0m\u001b[0mstatus\u001b[0m\u001b[0;34m.\u001b[0m\u001b[0mstatus\u001b[0m\u001b[0;34m)\u001b[0m\u001b[0;34m)\u001b[0m\u001b[0;34m,\u001b[0m\u001b[0;34m\u001b[0m\u001b[0m\n\u001b[0;32m--> 473\u001b[0;31m             c_api.TF_GetCode(self.status.status))\n\u001b[0m\u001b[1;32m    474\u001b[0m     \u001b[0;31m# Delete the underlying status object from memory otherwise it stays alive\u001b[0m\u001b[0;34m\u001b[0m\u001b[0;34m\u001b[0m\u001b[0m\n\u001b[1;32m    475\u001b[0m     \u001b[0;31m# as there is a reference to status from this from the traceback due to\u001b[0m\u001b[0;34m\u001b[0m\u001b[0;34m\u001b[0m\u001b[0m\n",
      "\u001b[0;31mInternalError\u001b[0m: Failed to create session."
     ]
    }
   ],
   "source": [
    "%run keras_verhicle_classfier/keras_vgg16.py --path  \"keras_verhicle_classfier/1003_1.jpg\""
   ]
  },
  {
   "cell_type": "code",
   "execution_count": 17,
   "metadata": {},
   "outputs": [],
   "source": [
    "for layer in base_model.layers:\n",
    "    layer.trainable = False"
   ]
  },
  {
   "cell_type": "code",
   "execution_count": 18,
   "metadata": {},
   "outputs": [],
   "source": [
    "def get_data(path):\n",
    "    img_list = []\n",
    "    label_list = []\n",
    "    for i in os.listdir(path):\n",
    "        label =int(i.split(\"_\")[1].split(\".\")[0])\n",
    "        img_list.append(cv2.imread(os.path.join(path,i)))\n",
    "        label_list.append(label)\n",
    "    return img_list,label_list"
   ]
  },
  {
   "cell_type": "code",
   "execution_count": 11,
   "metadata": {},
   "outputs": [],
   "source": [
    "train_path = \"same_size\"\n",
    "img_list,label_list = get_data(train_path)"
   ]
  },
  {
   "cell_type": "code",
   "execution_count": 12,
   "metadata": {
    "scrolled": true
   },
   "outputs": [],
   "source": [
    "imgs = np.array([i for i in img_list])\n",
    "lb = LabelBinarizer().fit(label_list)\n",
    "labels = lb.transform(label_list)\n",
    "train_imgs,valid_imgs,train_labels,valid_labels = train_test_split(imgs,labels,test_size=0.20,random_state=42)"
   ]
  },
  {
   "cell_type": "code",
   "execution_count": 86,
   "metadata": {},
   "outputs": [],
   "source": [
    "adam = Adam(lr=0.01)\n",
    "model_vgg.compile(optimizer=adam, loss=\"categorical_crossentropy\",metrics=[\"accuracy\"])"
   ]
  },
  {
   "cell_type": "code",
   "execution_count": 87,
   "metadata": {
    "scrolled": false
   },
   "outputs": [
    {
     "name": "stdout",
     "output_type": "stream",
     "text": [
      "Train on 9974 samples, validate on 2494 samples\n",
      "Epoch 1/20\n",
      "9952/9974 [============================>.] - ETA: 0s - loss: 4.1620 - acc: 0.0622\n",
      "Epoch 00001: val_loss improved from inf to 4.18852, saving model to Vgg16_batch.h5\n",
      "9974/9974 [==============================] - 41s 4ms/step - loss: 4.1636 - acc: 0.0621 - val_loss: 4.1885 - val_acc: 0.0573\n",
      "Epoch 2/20\n",
      "9952/9974 [============================>.] - ETA: 0s - loss: 4.1627 - acc: 0.0621\n",
      "Epoch 00002: val_loss did not improve\n",
      "9974/9974 [==============================] - 37s 4ms/step - loss: 4.1636 - acc: 0.0621 - val_loss: 4.1885 - val_acc: 0.0573\n",
      "Epoch 3/20\n",
      "9952/9974 [============================>.] - ETA: 0s - loss: 4.1627 - acc: 0.0621\n",
      "Epoch 00003: val_loss did not improve\n",
      "9974/9974 [==============================] - 37s 4ms/step - loss: 4.1636 - acc: 0.0621 - val_loss: 4.1885 - val_acc: 0.0573\n",
      "Epoch 4/20\n",
      "9952/9974 [============================>.] - ETA: 0s - loss: 4.1644 - acc: 0.0621\n",
      "Epoch 00004: val_loss did not improve\n",
      "9974/9974 [==============================] - 37s 4ms/step - loss: 4.1636 - acc: 0.0621 - val_loss: 4.1885 - val_acc: 0.0573\n",
      "Epoch 5/20\n",
      "9952/9974 [============================>.] - ETA: 0s - loss: 4.1629 - acc: 0.0621\n",
      "Epoch 00005: val_loss did not improve\n",
      "9974/9974 [==============================] - 37s 4ms/step - loss: 4.1636 - acc: 0.0621 - val_loss: 4.1885 - val_acc: 0.0573\n",
      "Epoch 6/20\n",
      "9952/9974 [============================>.] - ETA: 0s - loss: 4.1627 - acc: 0.0619\n",
      "Epoch 00006: val_loss did not improve\n",
      "9974/9974 [==============================] - 37s 4ms/step - loss: 4.1636 - acc: 0.0621 - val_loss: 4.1885 - val_acc: 0.0573\n",
      "Epoch 7/20\n",
      "9952/9974 [============================>.] - ETA: 0s - loss: 4.1638 - acc: 0.0621\n",
      "Epoch 00007: val_loss did not improve\n",
      "9974/9974 [==============================] - 37s 4ms/step - loss: 4.1636 - acc: 0.0621 - val_loss: 4.1885 - val_acc: 0.0573\n",
      "Epoch 8/20\n",
      "9952/9974 [============================>.] - ETA: 0s - loss: 4.1633 - acc: 0.0621\n",
      "Epoch 00008: val_loss did not improve\n",
      "9974/9974 [==============================] - 37s 4ms/step - loss: 4.1636 - acc: 0.0621 - val_loss: 4.1885 - val_acc: 0.0573\n",
      "Epoch 9/20\n",
      "9952/9974 [============================>.] - ETA: 0s - loss: 4.1642 - acc: 0.0621\n",
      "Epoch 00009: val_loss did not improve\n",
      "9974/9974 [==============================] - 37s 4ms/step - loss: 4.1636 - acc: 0.0621 - val_loss: 4.1885 - val_acc: 0.0573\n",
      "Epoch 10/20\n",
      "9952/9974 [============================>.] - ETA: 0s - loss: 4.1648 - acc: 0.0616\n",
      "Epoch 00010: val_loss did not improve\n",
      "9974/9974 [==============================] - 37s 4ms/step - loss: 4.1636 - acc: 0.0621 - val_loss: 4.1885 - val_acc: 0.0573\n",
      "Epoch 11/20\n",
      "9952/9974 [============================>.] - ETA: 0s - loss: 4.1641 - acc: 0.0621\n",
      "Epoch 00011: val_loss did not improve\n",
      "9974/9974 [==============================] - 37s 4ms/step - loss: 4.1636 - acc: 0.0621 - val_loss: 4.1885 - val_acc: 0.0573\n"
     ]
    },
    {
     "data": {
      "text/plain": [
       "<keras.callbacks.History at 0x7f4b5bc24bd0>"
      ]
     },
     "execution_count": 87,
     "metadata": {},
     "output_type": "execute_result"
    }
   ],
   "source": [
    "from keras.callbacks import LearningRateScheduler,EarlyStopping,ModelCheckpoint\n",
    "batch_size = 32\n",
    "annealer = LearningRateScheduler(lambda x: 1e-3 * 0.9 **x)\n",
    "earlystop = EarlyStopping(patience=10)\n",
    "model_save = ModelCheckpoint(\n",
    "                filepath=\"Vgg16_batch.h5\", save_best_only=True, verbose=1\n",
    ")\n",
    "model_vgg.fit(train_imgs,train_labels,batch_size=batch_size,\n",
    "          epochs=20, validation_data=(valid_imgs,valid_labels),\n",
    "          callbacks=[annealer,earlystop,model_save]\n",
    "         )"
   ]
  },
  {
   "cell_type": "markdown",
   "metadata": {},
   "source": [
    "## Load the model and predict"
   ]
  },
  {
   "cell_type": "code",
   "execution_count": 2,
   "metadata": {},
   "outputs": [],
   "source": [
    "model = load_model(\"vgg16.h5\")"
   ]
  },
  {
   "cell_type": "code",
   "execution_count": 37,
   "metadata": {},
   "outputs": [],
   "source": [
    "# model = load_model(\"data_avgg16.h5\")\n",
    "test_img ,test_label = get_data(\"test\")\n",
    "test_imgs = np.array(test_img)\n",
    "predictions = model.predict(test_imgs)\n",
    "predict_idxs = lb.inverse_transform(predictions)"
   ]
  },
  {
   "cell_type": "code",
   "execution_count": 38,
   "metadata": {},
   "outputs": [
    {
     "data": {
      "text/plain": [
       "array([ 5,  1, 15,  6,  0,  4,  1,  1, 11,  8,  5,  5,  9, 15, 14, 15,  1,\n",
       "        6,  3,  3,  5,  3,  9,  3,  1,  1,  4, 10, 11,  4,  9,  7,  4,  7,\n",
       "        2, 14,  2,  3,  5,  7, 10,  0,  5,  6,  2,  9,  8,  2,  4,  3,  7,\n",
       "        2,  1,  8,  9,  8,  5, 14,  4,  4,  7,  5,  5,  2, 10,  8,  1,  5,\n",
       "        3,  7,  3,  2,  2,  2,  6, 14,  1,  2, 12,  5,  7,  1,  6,  7,  4,\n",
       "        2,  8, 14,  5,  2,  6,  8,  6,  1, 10, 11,  3,  8,  5, 10,  5, 10,\n",
       "        9,  7, 14, 13, 14, 15, 14,  2,  6,  8,  1,  5,  1, 12,  6,  5,  1,\n",
       "        5,  0,  5,  5,  7, 10,  1,  9, 14,  4,  0,  1,  0,  9,  1,  5,  2,\n",
       "       10,  0,  3,  2, 11,  7,  2,  5,  5,  4,  3,  9, 13,  6,  2,  1, 10,\n",
       "       10,  8, 10, 13,  2,  1, 11, 11,  3, 11, 14, 11,  0,  2,  0, 10,  3,\n",
       "        8, 14,  8, 11,  5,  5,  4,  6,  3,  5,  6,  2, 10,  8, 14,  0, 14,\n",
       "        5,  4,  3, 15,  5,  2,  7, 10, 13,  6,  1, 10,  5])"
      ]
     },
     "execution_count": 38,
     "metadata": {},
     "output_type": "execute_result"
    }
   ],
   "source": [
    "predict_idxs"
   ]
  },
  {
   "cell_type": "code",
   "execution_count": 4,
   "metadata": {},
   "outputs": [],
   "source": [
    "def get_labelist(label_file):\n",
    "    label_list = []\n",
    "    fr = open(label_file,\"rb\")\n",
    "    for line in fr:\n",
    "        label = line.strip().split(\" \")[1]\n",
    "        label_list.append(label)\n",
    "    return label_list"
   ]
  },
  {
   "cell_type": "code",
   "execution_count": 5,
   "metadata": {},
   "outputs": [
    {
     "name": "stdout",
     "output_type": "stream",
     "text": [
      "大众帕萨特1\n"
     ]
    }
   ],
   "source": [
    "label_list = get_labelist(\"label.txt\")\n",
    "print(label_list[0])"
   ]
  },
  {
   "cell_type": "code",
   "execution_count": 40,
   "metadata": {},
   "outputs": [
    {
     "name": "stdout",
     "output_type": "stream",
     "text": [
      "Test accuracy: 93.5%\n"
     ]
    }
   ],
   "source": [
    "from __future__ import  print_function\n",
    "true_nums = 0\n",
    "for i in range(len(test_label)):\n",
    "    if test_label[i] == list(predict_idxs)[i]:\n",
    "        true_nums += 1\n",
    "print(\"Test accuracy: {}%\".format(float(true_nums) * 100/len(test_label)))"
   ]
  },
  {
   "cell_type": "code",
   "execution_count": 59,
   "metadata": {
    "scrolled": true
   },
   "outputs": [
    {
     "name": "stdout",
     "output_type": "stream",
     "text": [
      "(3, 3, 64)\n",
      "(3, 64, 64)\n",
      "(3, 64, 128)\n",
      "(3, 128, 128)\n",
      "(3, 128, 256)\n",
      "(3, 256, 256)\n",
      "(3, 256, 256)\n",
      "(3, 256, 512)\n",
      "(3, 512, 512)\n",
      "(3, 512, 512)\n",
      "(3, 512, 512)\n",
      "(3, 512, 512)\n",
      "(3, 512, 512)\n",
      "(4096,)\n",
      "(4096,)\n",
      "(276,)\n"
     ]
    }
   ],
   "source": [
    "for layer in model.layers:\n",
    "    try:\n",
    "        print(list(layer.get_weights()[0])[0].shape)\n",
    "    except:\n",
    "        pass"
   ]
  },
  {
   "cell_type": "markdown",
   "metadata": {},
   "source": [
    "## Data augmentation and train"
   ]
  },
  {
   "cell_type": "code",
   "execution_count": 98,
   "metadata": {},
   "outputs": [],
   "source": [
    "from keras.preprocessing.image import ImageDataGenerator\n",
    "datagen = ImageDataGenerator(\n",
    "    featurewise_center=False,\n",
    "    samplewise_center=False,\n",
    "    featurewise_std_normalization = False,\n",
    "    samplewise_std_normalization=False,\n",
    "    zca_whitening=False,\n",
    "    rotation_range=0,\n",
    "    width_shift_range=0.1,\n",
    "    height_shift_range=0.1,\n",
    "    horizontal_flip=True,\n",
    "    vertical_flip=False)\n",
    "datagen.fit(train_imgs)"
   ]
  },
  {
   "cell_type": "code",
   "execution_count": 123,
   "metadata": {},
   "outputs": [
    {
     "name": "stdout",
     "output_type": "stream",
     "text": [
      "Epoch 1/50\n",
      "315/315 [==============================] - 37s 116ms/step - loss: 0.2869 - acc: 0.9225 - val_loss: 0.2735 - val_acc: 0.9467\n",
      "Epoch 2/50\n",
      "315/315 [==============================] - 36s 116ms/step - loss: 0.2205 - acc: 0.9409 - val_loss: 0.2597 - val_acc: 0.9463\n",
      "Epoch 3/50\n",
      "315/315 [==============================] - 37s 116ms/step - loss: 0.1914 - acc: 0.9463 - val_loss: 0.2771 - val_acc: 0.9431\n",
      "Epoch 4/50\n",
      "315/315 [==============================] - 37s 117ms/step - loss: 0.1656 - acc: 0.9516 - val_loss: 0.2710 - val_acc: 0.9483\n",
      "Epoch 5/50\n",
      "315/315 [==============================] - 37s 117ms/step - loss: 0.1426 - acc: 0.9573 - val_loss: 0.2568 - val_acc: 0.9479\n",
      "Epoch 6/50\n",
      "315/315 [==============================] - 37s 116ms/step - loss: 0.1443 - acc: 0.9579 - val_loss: 0.2584 - val_acc: 0.9487\n",
      "Epoch 7/50\n",
      "315/315 [==============================] - 37s 117ms/step - loss: 0.1360 - acc: 0.9595 - val_loss: 0.2838 - val_acc: 0.9507\n",
      "Epoch 8/50\n",
      "315/315 [==============================] - 37s 117ms/step - loss: 0.1411 - acc: 0.9587 - val_loss: 0.2725 - val_acc: 0.9467\n",
      "Epoch 9/50\n",
      "315/315 [==============================] - 37s 118ms/step - loss: 0.1215 - acc: 0.9617 - val_loss: 0.2664 - val_acc: 0.9459\n",
      "Epoch 10/50\n",
      "315/315 [==============================] - 37s 116ms/step - loss: 0.1065 - acc: 0.9681 - val_loss: 0.2877 - val_acc: 0.9451\n",
      "Epoch 11/50\n",
      "315/315 [==============================] - 37s 117ms/step - loss: 0.1092 - acc: 0.9651 - val_loss: 0.2745 - val_acc: 0.9467\n",
      "Epoch 12/50\n",
      "315/315 [==============================] - 37s 117ms/step - loss: 0.1142 - acc: 0.9642 - val_loss: 0.2866 - val_acc: 0.9415\n",
      "Epoch 13/50\n",
      "315/315 [==============================] - 37s 117ms/step - loss: 0.1077 - acc: 0.9647 - val_loss: 0.2869 - val_acc: 0.9375\n",
      "Epoch 14/50\n",
      "315/315 [==============================] - 37s 117ms/step - loss: 0.1050 - acc: 0.9687 - val_loss: 0.3055 - val_acc: 0.9364\n",
      "Epoch 15/50\n",
      "315/315 [==============================] - 37s 117ms/step - loss: 0.0965 - acc: 0.9697 - val_loss: 0.2737 - val_acc: 0.9399\n",
      "Epoch 16/50\n",
      "315/315 [==============================] - 37s 117ms/step - loss: 0.0952 - acc: 0.9672 - val_loss: 0.2813 - val_acc: 0.9439\n",
      "Epoch 17/50\n",
      "315/315 [==============================] - 37s 117ms/step - loss: 0.0940 - acc: 0.9701 - val_loss: 0.2858 - val_acc: 0.9439\n",
      "Epoch 18/50\n",
      "315/315 [==============================] - 37s 117ms/step - loss: 0.0971 - acc: 0.9687 - val_loss: 0.2815 - val_acc: 0.9419\n",
      "Epoch 19/50\n",
      "315/315 [==============================] - 37s 117ms/step - loss: 0.0887 - acc: 0.9710 - val_loss: 0.2979 - val_acc: 0.9383\n",
      "Epoch 20/50\n",
      "315/315 [==============================] - 37s 118ms/step - loss: 0.0915 - acc: 0.9725 - val_loss: 0.2789 - val_acc: 0.9415\n",
      "Epoch 21/50\n",
      "315/315 [==============================] - 37s 117ms/step - loss: 0.0835 - acc: 0.9721 - val_loss: 0.2870 - val_acc: 0.9443\n",
      "Epoch 22/50\n",
      "315/315 [==============================] - 37s 117ms/step - loss: 0.0780 - acc: 0.9751 - val_loss: 0.2826 - val_acc: 0.9435\n",
      "Epoch 23/50\n",
      "315/315 [==============================] - 37s 117ms/step - loss: 0.0753 - acc: 0.9752 - val_loss: 0.3386 - val_acc: 0.9260\n",
      "Epoch 24/50\n",
      "315/315 [==============================] - 37s 117ms/step - loss: 0.0732 - acc: 0.9769 - val_loss: 0.2895 - val_acc: 0.9387\n",
      "Epoch 25/50\n",
      "315/315 [==============================] - 37s 117ms/step - loss: 0.0706 - acc: 0.9795 - val_loss: 0.2850 - val_acc: 0.9411\n",
      "Epoch 26/50\n",
      "315/315 [==============================] - 37s 117ms/step - loss: 0.0757 - acc: 0.9763 - val_loss: 0.2872 - val_acc: 0.9383\n",
      "Epoch 27/50\n",
      "315/315 [==============================] - 37s 117ms/step - loss: 0.0686 - acc: 0.9785 - val_loss: 0.3015 - val_acc: 0.9375\n",
      "Epoch 28/50\n",
      "315/315 [==============================] - 37s 117ms/step - loss: 0.0681 - acc: 0.9792 - val_loss: 0.3038 - val_acc: 0.9364\n",
      "Epoch 29/50\n",
      "315/315 [==============================] - 37s 118ms/step - loss: 0.0737 - acc: 0.9753 - val_loss: 0.2973 - val_acc: 0.9391\n",
      "Epoch 30/50\n",
      "315/315 [==============================] - 37s 118ms/step - loss: 0.0730 - acc: 0.9763 - val_loss: 0.3027 - val_acc: 0.9368\n",
      "Epoch 31/50\n",
      "315/315 [==============================] - 37s 117ms/step - loss: 0.0670 - acc: 0.9805 - val_loss: 0.3082 - val_acc: 0.9368\n",
      "Epoch 32/50\n",
      "315/315 [==============================] - 37s 117ms/step - loss: 0.0684 - acc: 0.9803 - val_loss: 0.3112 - val_acc: 0.9379\n",
      "Epoch 33/50\n",
      "315/315 [==============================] - 37s 117ms/step - loss: 0.0669 - acc: 0.9781 - val_loss: 0.3055 - val_acc: 0.9383\n",
      "Epoch 34/50\n",
      "315/315 [==============================] - 37s 117ms/step - loss: 0.0613 - acc: 0.9805 - val_loss: 0.3074 - val_acc: 0.9372\n",
      "Epoch 35/50\n",
      "315/315 [==============================] - 37s 117ms/step - loss: 0.0656 - acc: 0.9790 - val_loss: 0.3365 - val_acc: 0.9284\n",
      "Epoch 36/50\n",
      "315/315 [==============================] - 37s 117ms/step - loss: 0.0629 - acc: 0.9813 - val_loss: 0.3228 - val_acc: 0.9352\n",
      "Epoch 37/50\n",
      "315/315 [==============================] - 40s 126ms/step - loss: 0.0593 - acc: 0.9809 - val_loss: 0.3228 - val_acc: 0.9336\n",
      "Epoch 38/50\n",
      "315/315 [==============================] - 37s 118ms/step - loss: 0.0604 - acc: 0.9808 - val_loss: 0.3184 - val_acc: 0.9332\n",
      "Epoch 39/50\n",
      "315/315 [==============================] - 37s 117ms/step - loss: 0.0570 - acc: 0.9820 - val_loss: 0.3495 - val_acc: 0.9296\n",
      "Epoch 40/50\n",
      "315/315 [==============================] - 37s 117ms/step - loss: 0.0656 - acc: 0.9795 - val_loss: 0.3553 - val_acc: 0.9320\n",
      "Epoch 41/50\n",
      "315/315 [==============================] - 37s 117ms/step - loss: 0.0574 - acc: 0.9811 - val_loss: 0.3352 - val_acc: 0.9328\n",
      "Epoch 42/50\n",
      "315/315 [==============================] - 37s 117ms/step - loss: 0.0574 - acc: 0.9805 - val_loss: 0.3336 - val_acc: 0.9312\n",
      "Epoch 43/50\n",
      "315/315 [==============================] - 37s 117ms/step - loss: 0.0562 - acc: 0.9820 - val_loss: 0.3337 - val_acc: 0.9340\n",
      "Epoch 44/50\n",
      "315/315 [==============================] - 37s 117ms/step - loss: 0.0530 - acc: 0.9832 - val_loss: 0.3374 - val_acc: 0.9312\n",
      "Epoch 45/50\n",
      "315/315 [==============================] - 37s 117ms/step - loss: 0.0526 - acc: 0.9848 - val_loss: 0.3421 - val_acc: 0.9352\n",
      "Epoch 46/50\n",
      "315/315 [==============================] - 37s 117ms/step - loss: 0.0476 - acc: 0.9871 - val_loss: 0.3504 - val_acc: 0.9284\n",
      "Epoch 47/50\n",
      "315/315 [==============================] - 37s 117ms/step - loss: 0.0503 - acc: 0.9852 - val_loss: 0.3251 - val_acc: 0.9352\n",
      "Epoch 48/50\n",
      "315/315 [==============================] - 37s 117ms/step - loss: 0.0563 - acc: 0.9836 - val_loss: 0.3700 - val_acc: 0.9288\n",
      "Epoch 49/50\n",
      "315/315 [==============================] - 37s 117ms/step - loss: 0.0572 - acc: 0.9832 - val_loss: 0.3567 - val_acc: 0.9272\n",
      "Epoch 50/50\n",
      "315/315 [==============================] - 37s 117ms/step - loss: 0.0475 - acc: 0.9847 - val_loss: 0.3307 - val_acc: 0.9348\n"
     ]
    },
    {
     "data": {
      "text/plain": [
       "<keras.callbacks.History at 0x7fe33889f250>"
      ]
     },
     "execution_count": 123,
     "metadata": {},
     "output_type": "execute_result"
    }
   ],
   "source": [
    "model.fit_generator(datagen.flow(train_imgs,train_labels,batch_size=32),\n",
    "                    epochs=50,validation_data=(valid_imgs,valid_labels),workers=4)"
   ]
  },
  {
   "cell_type": "code",
   "execution_count": 124,
   "metadata": {},
   "outputs": [],
   "source": [
    "model.save(\"data_avgg16.h5\")"
   ]
  },
  {
   "cell_type": "code",
   "execution_count": null,
   "metadata": {},
   "outputs": [],
   "source": []
  }
 ],
 "metadata": {
  "kernelspec": {
   "display_name": "Python 2",
   "language": "python",
   "name": "python2"
  },
  "language_info": {
   "codemirror_mode": {
    "name": "ipython",
    "version": 2
   },
   "file_extension": ".py",
   "mimetype": "text/x-python",
   "name": "python",
   "nbconvert_exporter": "python",
   "pygments_lexer": "ipython2",
   "version": "2.7.12"
  }
 },
 "nbformat": 4,
 "nbformat_minor": 2
}
